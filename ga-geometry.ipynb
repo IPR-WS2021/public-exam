{
  "cells": [
    {
      "cell_type": "markdown",
      "metadata": {
        "id": "3of6D-hGVHt1"
      },
      "source": [
        "# *IPR | Graphics - Exercise* : Geometry\n",
        "\n",
        "Student name: *[Todo]* <br>\n",
        "Student ID: *[Todo]* <br>\n",
        "\n",
        "This is the handout and the exercise sheet for the IPR Graphics Exercise. <br>\n",
        "You have to solve 3 tasks, summing to 12 points, in this exercise. <br>"
      ]
    },
    {
      "cell_type": "code",
      "source": [
        "# Load the IPR-library first, so we can import it with import ipr\n",
        "!curl \"https://raw.githubusercontent.com/IPR-WS2021/public-test/main/ipr.py\" --output \"ipr.py\" "
      ],
      "metadata": {
        "id": "M-_fy8DaXfOX",
        "outputId": "066911e7-ea76-441f-9485-dc91c08a5024",
        "colab": {
          "base_uri": "https://localhost:8080/"
        }
      },
      "execution_count": 7,
      "outputs": [
        {
          "output_type": "stream",
          "name": "stdout",
          "text": [
            "  % Total    % Received % Xferd  Average Speed   Time    Time     Time  Current\n",
            "                                 Dload  Upload   Total   Spent    Left  Speed\n",
            "\r  0     0    0     0    0     0      0      0 --:--:-- --:--:-- --:--:--     0\r100  5235  100  5235    0     0   138k      0 --:--:-- --:--:-- --:--:--  138k\n"
          ]
        }
      ]
    },
    {
      "cell_type": "markdown",
      "metadata": {
        "id": "EST6gtF5VHt4"
      },
      "source": [
        "## Simple Triangle Geometry\n",
        "\n",
        "A triangle is a polygon with three sides and three vertices. \n",
        "Vertices are lists of coordinates with a length of 3 (x,y,z).\n",
        "Note, that we ignore the z-coordinate for now.\n",
        "The triangle `face` is a list of three vertices, thus a list of lists.\n",
        "\n",
        "We can `import ipr` to get access to the `draw_polygon` function for debugging. \n",
        "Make sure that this Jupyter-notebook file (`.ipynb`) is in the same directory as the `ipr.py` file!"
      ]
    },
    {
      "cell_type": "code",
      "execution_count": 8,
      "metadata": {
        "id": "TTqyHEFvVHt5",
        "outputId": "cb45e8b7-1bb0-4636-e940-64ea7b58c3f2",
        "colab": {
          "base_uri": "https://localhost:8080/",
          "height": 265
        }
      },
      "outputs": [
        {
          "output_type": "display_data",
          "data": {
            "text/plain": [
              "<Figure size 432x288 with 1 Axes>"
            ],
            "image/png": "[encoded data removed]"
          },
          "metadata": {
            "needs_background": "light"
          }
        }
      ],
      "source": [
        "import ipr # for draw_polygon (drawing in 2D and debugging)\n",
        "\n",
        "# 3 vertices:\n",
        "v0 = [0.5, 1.0, 0.0]\n",
        "v1 = [0.0, 0.0, 0.0]\n",
        "v2 = [1.0, 0.3, 0.0]\n",
        "\n",
        "face = [v0,v1,v2] # a triangle\n",
        "\n",
        "ipr.draw_polygon(face)"
      ]
    },
    {
      "cell_type": "markdown",
      "metadata": {
        "id": "QqG5y2YjVHt7"
      },
      "source": [
        "## A Quad Geometry\n",
        "\n",
        "A quad is a polygon with 4 sides and vertices. \n",
        "Similar to a triangle (above)."
      ]
    },
    {
      "cell_type": "code",
      "execution_count": 9,
      "metadata": {
        "id": "A7bEhkZZVHt8",
        "outputId": "356848f9-ee68-4f1d-9821-0bef9b5c8681",
        "colab": {
          "base_uri": "https://localhost:8080/",
          "height": 265
        }
      },
      "outputs": [
        {
          "output_type": "display_data",
          "data": {
            "text/plain": [
              "<Figure size 432x288 with 1 Axes>"
            ],
            "image/png": "[encoded data removed]"
          },
          "metadata": {
            "needs_background": "light"
          }
        }
      ],
      "source": [
        "# a quad \n",
        "v0 = [0.5, 1.0, 0.0]\n",
        "v1 = [0.0, 0.0, 0.0]\n",
        "v2 = [1.0, 0.3, 0.0]\n",
        "v3 = [-.5, 0.7, 0.0]\n",
        "\n",
        "# stores 4 vertices:\n",
        "quad = [v0,v3,v1,v2]\n",
        "\n",
        "ipr.draw_polygon(quad) # debugging"
      ]
    },
    {
      "cell_type": "markdown",
      "metadata": {
        "id": "BpOyjXjmVHt8"
      },
      "source": [
        "## A Quad with 2 Triangles\n",
        "\n",
        "Quads have some advantages for modeling (e.g., subdivision), but can lead to problems for rendering (e.g., if they are not planar).\n",
        "Thus, it is often better to use triangles. Triangles are always planar and are mathematically simpler (e.g., for interpolation).\n"
      ]
    },
    {
      "cell_type": "code",
      "execution_count": 10,
      "metadata": {
        "id": "HALPxQBBVHt9",
        "outputId": "962c06ee-3ed7-4603-fc7e-3993c47acd6d",
        "colab": {
          "base_uri": "https://localhost:8080/",
          "height": 265
        }
      },
      "outputs": [
        {
          "output_type": "display_data",
          "data": {
            "text/plain": [
              "<Figure size 432x288 with 1 Axes>"
            ],
            "image/png": "[encoded data removed]"
          },
          "metadata": {
            "needs_background": "light"
          }
        }
      ],
      "source": [
        "v0 = [0.5, 1.0, 0.0]\n",
        "v1 = [0.0, 0.0, 0.0]\n",
        "v2 = [1.0, 0.3, 0.0]\n",
        "v3 = [-.5, 0.7, 0.0]\n",
        "\n",
        "# stores 6 vertices:\n",
        "triangles = [   v0,v1,v2,  # triangle 1\n",
        "                v0,v3,v1 ] # triangle 2\n",
        " \n",
        "ipr.draw_triangles(triangles) # debugging"
      ]
    },
    {
      "cell_type": "markdown",
      "metadata": {
        "id": "X2eEIfkWVHt-"
      },
      "source": [
        "## A Quad of 2 Triangles with Indexing\n",
        "\n",
        "In the example above some vertices are duplicated and redundant. This leads to additional storage and computation overhead.\n",
        "We can use indexing to remove redundant vertices."
      ]
    },
    {
      "cell_type": "code",
      "execution_count": 11,
      "metadata": {
        "id": "c82c-BDMVHt-",
        "outputId": "5bd34c3c-f697-4024-e20b-b2fc97100d41",
        "colab": {
          "base_uri": "https://localhost:8080/",
          "height": 265
        }
      },
      "outputs": [
        {
          "output_type": "display_data",
          "data": {
            "text/plain": [
              "<Figure size 432x288 with 1 Axes>"
            ],
            "image/png": "[encoded data removed]"
          },
          "metadata": {
            "needs_background": "light"
          }
        }
      ],
      "source": [
        "v0 = [0.5, 1.0, 0.0]\n",
        "v1 = [0.0, 0.0, 0.0]\n",
        "v2 = [1.0, 0.3, 0.0]\n",
        "v3 = [-.5, 0.7, 0.0]\n",
        "\n",
        "# store 4 vertices:\n",
        "vertices = [v0,v1,v2,v3]\n",
        "indices  = [0,1,2,  # triangle 1\n",
        "            0,3,1]  # triangle 2\n",
        "\n",
        "ipr.draw_triangles(vertices,indices) # debugging"
      ]
    },
    {
      "cell_type": "markdown",
      "metadata": {
        "id": "VJE6WyBGVHt_"
      },
      "source": [
        "## OBJ Polygon Outline Writer\n",
        "\n",
        "A function to write an OBJ file with a single polygon outline. The input are the vertices of the polygon and the name of the file.\n",
        "Vertices are given as a list in the order of appearance. Furthermore, the function ensures that the last and the first vertex are connected (closing the polygon).\n",
        "Vertices in the OBJ file start with a `v` at the beginning of the line. Multiple vertices span over multiple lines, each beginning with a `v`.\n",
        "The file contains a single line definition starting with the letter `l` and the subsequent indices of the vertices. \n",
        "Note that indices in OBJ files start at 1."
      ]
    },
    {
      "cell_type": "code",
      "execution_count": 12,
      "metadata": {
        "id": "BBia2fnDVHuA",
        "outputId": "62d9b427-1bdc-4d34-ac40-26eb0f42d1f2",
        "colab": {
          "base_uri": "https://localhost:8080/"
        }
      },
      "outputs": [
        {
          "output_type": "stream",
          "name": "stdout",
          "text": [
            "# List of vertices, with (x y z [w=1]) coordinates.\n",
            "v 0.5 1.0 0.0\n",
            "v -0.5 0.7 0.0\n",
            "v 0.0 0.0 0.0\n",
            "v 1.0 0.3 0.0\n",
            "# Line element (indices to vertices)\n",
            "l 1 2 3 4 1\n",
            "\n"
          ]
        }
      ],
      "source": [
        "def write_obj_line_file(vertices, obj_file_name, print_obj=True):\n",
        "    \"\"\"Write a polygon as OBJ line file.\n",
        "\n",
        "    The polygon can have varying numbers of vertices (e.g., triangle, quad, ...).\n",
        "    Only an outline is stored in the OBJ file. \n",
        "    The file can be imported into Blender, Maya, or any other 3D modeling software.\n",
        "\n",
        "    Args:\n",
        "        vertices (list): a list of vertices (3D coordinates)\n",
        "        obj_file_name (str): file name of the OBJ file\n",
        "        print_obj (bool): if True, prints the OBJ file to the console. Defaults to True.\n",
        "    \"\"\"\n",
        "    indices = list(range(1,len(vertices)+1)) # indices start at 1\n",
        "    indices.append(1) # close the polygon by connecting the last with the first vertex\n",
        "\n",
        "    with open(obj_file_name,'w') as f:\n",
        "        f.write(\"# List of vertices, with (x y z [w=1]) coordinates.\\n\") # comment on top of vertex list\n",
        "        for v in vertices:\n",
        "            f.write(f\"v {v[0]} {v[1]} {v[2]}\\n\") # write vertex\n",
        "\n",
        "        # line\n",
        "        f.write(\"# Line element (indices to vertices)\\n\") # comment for line\n",
        "        f.write(\"l \" + \" \".join(map(str,indices)) + \"\\n\")\n",
        "\n",
        "    # Debug output of the written file:\n",
        "    if print_obj:\n",
        "        with open(obj_file_name) as f:\n",
        "            contents = f.read()\n",
        "            print(contents)\n",
        "\n",
        "\n",
        "write_obj_line_file(quad, 'quad_outline.obj')"
      ]
    },
    {
      "cell_type": "markdown",
      "metadata": {
        "id": "OU-kRUqAVHuA"
      },
      "source": [
        "## _Task 01:_ OBJ Triangle Writer [4 Points]\n",
        "\n",
        "Implement a function to write an OBJ file with indexed triangles. The function parameters are the vertices of the polygon as a list, the indices for the triangles as a list, and the name of the file as a string.\n",
        "\n",
        "A vertex in an OBJ file start with a `v` at the beginning of the line.  \n",
        "A face (triangle) starts with an `f`. Make new line for every vertex and face.\n",
        "Note that indices in OBJ files start at 1."
      ]
    },
    {
      "cell_type": "code",
      "execution_count": 13,
      "metadata": {
        "id": "JjRQmiQGVHuB",
        "outputId": "abc0adcd-45fa-4929-c9d2-71417951d4aa",
        "colab": {
          "base_uri": "https://localhost:8080/"
        }
      },
      "outputs": [
        {
          "output_type": "stream",
          "name": "stdout",
          "text": [
            "# List of vertices, with (x y z [w=1]) coordinates.\n",
            "# Polygonal face element (3 indices for a triangle) \n",
            "\n"
          ]
        }
      ],
      "source": [
        "def write_obj_file(vertices, indices, obj_file_name, print_obj=True):\n",
        "    \"\"\"Writes a mesh as OBJ file (outline and fill)\n",
        "\n",
        "    Args:\n",
        "        vertices (list): a list of vertices (3D coordinates)\n",
        "        indices (list): a list of indices to the vertices. Indices start at 0 and are incremented by 1 before writting to the OBJ file.\n",
        "        obj_file_name (str): file name of the OBJ file\n",
        "    \"\"\"\n",
        "    with open(obj_file_name,'w') as f:\n",
        "        f.write(\"# List of vertices, with (x y z [w=1]) coordinates.\\n\") # comment on top of vertex list\n",
        "        # Todo: write vertices\n",
        "\n",
        "        f.write(\"# Polygonal face element (3 indices for a triangle) \\n\") # comment for face\n",
        "        # Todo: write faces (make sure indices start at 1!)\n",
        "\n",
        "\n",
        "    # Debug output of the written file:\n",
        "    if print_obj:\n",
        "        with open(obj_file_name) as f:\n",
        "            contents = f.read()\n",
        "            print(contents)\n",
        "\n",
        "write_obj_file(vertices,indices,\"quad.obj\")"
      ]
    },
    {
      "cell_type": "markdown",
      "metadata": {
        "id": "tRu5lq8rVHuB"
      },
      "source": [
        "## Circle Geometry\n",
        "\n",
        "Create a circle with a given radius and number of vertices. \n",
        "Based on the number of vertices `num_vertices`, an angle `alpha` is computed and on every angle segment on the circle, a vertex is added. \n",
        "Thus, creating counter-clockwise ordered `num_vertices` vertices of a circle.\n",
        "The circle is centered at the origin and extends +/- radius on the x and y axis. "
      ]
    },
    {
      "cell_type": "code",
      "execution_count": 14,
      "metadata": {
        "id": "kssbxem2VHuC",
        "outputId": "faa7ebb3-644c-4512-c1b3-4fc3dea332c4",
        "colab": {
          "base_uri": "https://localhost:8080/",
          "height": 691
        }
      },
      "outputs": [
        {
          "output_type": "display_data",
          "data": {
            "text/plain": [
              "<Figure size 432x288 with 1 Axes>"
            ],
            "image/png": "[encoded data removed]"
          },
          "metadata": {
            "needs_background": "light"
          }
        },
        {
          "output_type": "stream",
          "name": "stdout",
          "text": [
            "# List of vertices, with (x y z [w=1]) coordinates.\n",
            "v 2.0 0.0 0\n",
            "v 1.902113032590307 0.6180339887498948 0\n",
            "v 1.618033988749895 1.1755705045849463 0\n",
            "v 1.1755705045849463 1.618033988749895 0\n",
            "v 0.6180339887498949 1.902113032590307 0\n",
            "v 1.2246467991473532e-16 2.0 0\n",
            "v -0.6180339887498947 1.9021130325903073 0\n",
            "v -1.175570504584946 1.618033988749895 0\n",
            "v -1.6180339887498947 1.1755705045849465 0\n",
            "v -1.902113032590307 0.618033988749895 0\n",
            "v -2.0 2.4492935982947064e-16 0\n",
            "v -1.9021130325903073 -0.6180339887498946 0\n",
            "v -1.6180339887498951 -1.175570504584946 0\n",
            "v -1.1755705045849465 -1.6180339887498947 0\n",
            "v -0.6180339887498951 -1.902113032590307 0\n",
            "v -3.6739403974420594e-16 -2.0 0\n",
            "v 0.6180339887498945 -1.9021130325903073 0\n",
            "v 1.1755705045849458 -1.6180339887498951 0\n",
            "v 1.6180339887498947 -1.1755705045849467 0\n",
            "v 1.902113032590307 -0.6180339887498952 0\n",
            "# Line element (indices to vertices)\n",
            "l 1 2 3 4 5 6 7 8 9 10 11 12 13 14 15 16 17 18 19 20 1\n",
            "\n"
          ]
        }
      ],
      "source": [
        "import math # for cos and sin functions\n",
        "\n",
        "radius = 2\n",
        "num_vertices = 20\n",
        "alpha = 2*math.pi/num_vertices\n",
        "\n",
        "circle = []\n",
        "for i in range(num_vertices):\n",
        "    x,y = math.cos(alpha*i), math.sin(alpha*i)\n",
        "    circle.append([x*radius,y*radius,0])\n",
        "\n",
        "ipr.draw_polygon(circle)\n",
        "\n",
        "write_obj_line_file(circle, 'circle_outline.obj')"
      ]
    },
    {
      "cell_type": "markdown",
      "metadata": {
        "id": "gR8kYmwpVHuC"
      },
      "source": [
        "## _Task 02_: Star Outline [4 Points]\n",
        "\n",
        "Implement the `create_star` function that creates a star with a defined number of points/peaks. \n",
        "Use the circle geometry as basis and use two radii to define the offset of the points (vertices at peaks and non-peaks).\n",
        "Create counter-clockwise ordered vertices of the star.\n",
        "The star is centered at the origin and extends +/- radius2 on the x and y axis. \n",
        "\n",
        "The number of points `num_peaks` for your star should be based on your birthday. Sum the digits of the day and month of your birthday. For example, if your birthday is 13.04. you should create a star with 1+3+4 = 10 points/peaks.\n",
        "Make sure, however, that the star drawing is correct for other numbers of points. If the sum is less than 5 use an arbitrary number!\n",
        "\n",
        "Write the vertices and the outline of the star to an OBJ file and verify that the file is valid and correct by loading it in Blender/Maya/etc.\n",
        "Hand the OBJ in.\n",
        "\n",
        "**Bonus:** [1 Extra-Point] make sure that a line connecting two peaks passes through the vertices on the inner circle (see slides for a visual picture). Explain the equation on a sheet of paper or in Markdown (in this file) and hand it in."
      ]
    },
    {
      "cell_type": "code",
      "execution_count": 15,
      "metadata": {
        "id": "g_hi_hMMVHuD",
        "outputId": "fb04f0ac-9a6c-41ec-c630-87688518a7df",
        "colab": {
          "base_uri": "https://localhost:8080/"
        }
      },
      "outputs": [
        {
          "output_type": "stream",
          "name": "stdout",
          "text": [
            "# List of vertices, with (x y z [w=1]) coordinates.\n",
            "# Line element (indices to vertices)\n",
            "l 1\n",
            "\n"
          ]
        }
      ],
      "source": [
        "# a star polygon\n",
        "import math\n",
        "\n",
        "def create_star(num_peaks, r1, r2) -> list:\n",
        "    \"\"\"Creates a star polygon with num_peaks peaks/points.\n",
        "\n",
        "    Args:\n",
        "        num_peaks (int): number of peaks in the star\n",
        "        r1 (float): radius of the inner circle\n",
        "        r2 (float): radius of the outer circle\n",
        "\n",
        "    Returns:\n",
        "        list: a list of vertices (3D coordinates)\n",
        "    \"\"\"\n",
        "    vertices = []\n",
        "    # Todo: create a star polygon with num_peaks peaks/points. Use the circle (from above) as basis.\n",
        "    return vertices\n",
        "\n",
        "r1 = 1 # inner radius\n",
        "num_peaks = 5 # the digits of the day and month of your birthday summed up\n",
        "r2 = 2 # outer radius [optional Bonus here!]\n",
        "\n",
        "star = create_star(num_peaks, r1, r2)\n",
        "\n",
        "ipr.draw_polygon(star)\n",
        "\n",
        "write_obj_line_file(star, 'star_outline.obj')"
      ]
    },
    {
      "cell_type": "markdown",
      "metadata": {
        "id": "_HEtYoENVHuD"
      },
      "source": [
        "## _Task 03_: Star Mesh [4 Points]\n",
        "\n",
        "Reuse the vertices of the `create_star` function from the previous task and create a filled star mesh with triangles. \n",
        "\n",
        "Make sure that the front of the star is only made of counter-clockwise triangles. \n",
        "The triangles are defined by the indices of the vertices.\n",
        "Hint: you maybe need to add an additional vertex to close the inside of the star (inside the inner circle of radius `r1`).\n",
        "Make sure that triangles do not overlap, this causes problems for rendering.\n",
        "\n",
        "Write the vertices and indices of the star to an OBJ file and verify that the file is valid and correct by loading it in Blender/Maya/etc.\n",
        "Hand the OBJ in. Ensure that the function is correct, by varying the number of points and the radius.\n",
        "\n",
        "**Bonus:** [1 Extra-Point] Make the star 3D and not flat. For example, extrude the star mesh to create an object with depth (z!=0). For the extruded sides, you can ignore the winding-order (clockwise or counter-clockwise)."
      ]
    },
    {
      "cell_type": "code",
      "execution_count": 16,
      "metadata": {
        "id": "PFJNJ_P5VHuE",
        "outputId": "c7daa1b8-cbbd-4504-c2c7-5e43e860ea46",
        "colab": {
          "base_uri": "https://localhost:8080/"
        }
      },
      "outputs": [
        {
          "output_type": "stream",
          "name": "stdout",
          "text": [
            "# List of vertices, with (x y z [w=1]) coordinates.\n",
            "# Polygonal face element (3 indices for a triangle) \n",
            "\n"
          ]
        }
      ],
      "source": [
        "\n",
        "def create_star_mesh(num_peaks, r1, r2):    \n",
        "    \"\"\"Creates a star mesh (triangles) with num_peaks peaks/points.\n",
        "\n",
        "    Args:\n",
        "        num_peaks (int): number of points in the star\n",
        "        r1 (float): radius of the inner circle\n",
        "        r2 (float): radius of the outer circle\n",
        "\n",
        "    Returns:\n",
        "        list: a list of vertices (3D coordinates)\n",
        "        list: a list of indices to the vertices. Indices start at 0 and are incremented by 1 before writting to the OBJ file.\n",
        "    \"\"\"\n",
        "    vertices = create_star(num_peaks, r1, r2)\n",
        "    indices = list(range(len(vertices)))\n",
        "\n",
        "    # Todo: create a star mesh with vertices and triangle indices\n",
        "\n",
        "    return (vertices, indices)\n",
        "\n",
        "vertices, indices = create_star_mesh(num_peaks, r1, r2)\n",
        "\n",
        "ipr.draw_triangles(vertices,indices)\n",
        "write_obj_file(vertices,indices, 'star.obj')"
      ]
    },
    {
      "cell_type": "markdown",
      "metadata": {
        "id": "viSAZcktVHuE"
      },
      "source": [
        "### Some Notes:\n",
        "- You can delete cells of this notebook that are not related to the tasks. <br>\n",
        "- Ensure that you added your name and matriculation number to the top of the notebook."
      ]
    }
  ],
  "metadata": {
    "interpreter": {
      "hash": "3e2b6404eb79c0fba1a251907aa00d26891e411eaa7ffd3f13ecfdd311f8c56c"
    },
    "kernelspec": {
      "display_name": "Python 3.8.10 64-bit (windows store)",
      "name": "python3"
    },
    "language_info": {
      "codemirror_mode": {
        "name": "ipython",
        "version": 3
      },
      "file_extension": ".py",
      "mimetype": "text/x-python",
      "name": "python",
      "nbconvert_exporter": "python",
      "pygments_lexer": "ipython3",
      "version": "3.8.10"
    },
    "orig_nbformat": 4,
    "colab": {
      "name": "ga-geometry.ipynb",
      "provenance": []
    }
  },
  "nbformat": 4,
  "nbformat_minor": 0
}