{
  "cells": [
    {
      "cell_type": "markdown",
      "metadata": {
        "id": "3of6D-hGVHt1"
      },
      "source": [
        "# Kommissionelle Überprüfung der IPR Übungen\n",
        "\n",
        "Die Aufgaben sind in einem Browserfenster mit Jupyter Notebook auf Google Colab zu lösen. Sie sehen die Ergebnisse/Ausgaben Ihres Programmes sofort und können interaktiv arbeiten.\n",
        "Die abzugebenden Lösungen sind Source Code der lauffähig ist und keine Syntax Fehler enthält (ähnlich zu den Übungsaufgaben).\n",
        "\n",
        "Speichern Sie das Notebook regelmäßig in ihrem Google Drive („Save a copy in Drive“) damit Ihre Lösungen nicht verloren gehen, falls Ihr Browser oder Rechner abstürzt.\n",
        "\n",
        "Sobald Sie fertig sind, downloaden Sie Ihr Jupyter Notebook (File->Download) und laden dieses auf die Exams-Plattform hoch. Für den Upload haben Sie eingeschränkten Zugriff auf den Downloads Ordner (enthält nur Ihr Jupyter Notebook). \n",
        "Am besten schließen Sie das Colab Fenster NICHT bis der Upload funktioniert hat. \n",
        "\n",
        "Während der Überprüfung dürfen Sie:\n",
        "*\tIhr Jupyter Notebook auf Drive nicht mit anderen Personen teilen,\n",
        "*\tTaschenrechner, ein Blatt Papier und Stifte verwenden, \n",
        "*\tkeine weiteren Unterlagen verwenden,\n",
        "*\tmit keinen weiteren Personen sprechen, und\n",
        "*\tden Arbeitsplatz nicht verlassen.  \n",
        "\n",
        "**Falls Sie Fragen haben oder Hilfe brauchen, melden Sie sich!**"
      ]
    },
    {
      "cell_type": "code",
      "execution_count": 1,
      "metadata": {
        "colab": {
          "base_uri": "https://localhost:8080/"
        },
        "id": "M-_fy8DaXfOX",
        "outputId": "1d2efd4c-e4a0-4548-bd2e-0e1bdcad5822"
      },
      "outputs": [
        {
          "output_type": "stream",
          "name": "stdout",
          "text": [
            "  % Total    % Received % Xferd  Average Speed   Time    Time     Time  Current\n",
            "                                 Dload  Upload   Total   Spent    Left  Speed\n",
            "\r  0     0    0     0    0     0      0      0 --:--:-- --:--:-- --:--:--     0\r100    14  100    14    0     0    113      0 --:--:-- --:--:-- --:--:--   113\n"
          ]
        }
      ],
      "source": [
        "# --- SETUP ---\n",
        "# Load the IPR-library first, so we can import it with import ipr\n",
        "#!curl \"https://raw.githubusercontent.com/IPR-WS2021/public-exam/main/ipr.py\" --output \"ipr.py\" "
      ]
    },
    {
      "cell_type": "markdown",
      "metadata": {
        "id": "2hBqh7exJFN_"
      },
      "source": [
        "## Aufgabe 1: (4 Punkte)\n",
        "Schreiben Sie eine Python Funktion `add_vector` die zwei Vektoren addiert. Diese soll dabei für Vektoren beliebiger Dimension funktionieren. \n",
        "Testen Sie die Funktion mit Vektoren der Dimension 3 und 4 und geben Sie diese Ergebnisse im Code mit `print` aus. "
      ]
    },
    {
      "cell_type": "code",
      "execution_count": null,
      "metadata": {
        "id": "SOzhvDSRJFOD"
      },
      "outputs": [],
      "source": [
        "def add_vector(v1, v2):\n",
        "    \"\"\"Adds two vectors.\n",
        "    \"\"\" \n",
        "    #  Todo: implement this function\n",
        "\n",
        "# Todo: use the function"
      ]
    },
    {
      "cell_type": "markdown",
      "metadata": {
        "id": "HyUPZUhhJFOF"
      },
      "source": [
        "## Aufgabe 2: (4 Punkte)\n",
        "Schreiben Sie eine Python Funktion `print_obj_file` die ein beliebiges Dreiecks-Polygon in einem OBJ Datei Format auf der Konsole ausgibt.\n",
        "\n",
        "Die Eingabe sind die Vertices des Polygons sowie die Indizes für die Dreiecke.\n",
        "Vertices sind 3 dimensional und werden als verschachtelte Liste angegeben. \n",
        "Indices sind in einem 1-dimensionalen Array angegeben. Jedes Dreieck besteht aus 3 Indizes.\n",
        "Ein Vertex in einer OBJ-Datei beginnt mit einem „v“ am Anfang der Zeile.\n",
        "Ein Dreieck beginnt mit „f“ am Anfang der Zeile. \n",
        "Mehrere Scheitelpunkte und Flächen belegen mehrere Zeilen.\n",
        "Beachten Sie, dass Indizes in OBJ-Dateien bei 1 beginnen.\n",
        "\n",
        "Rufen Sie die Funktion mit dem Quadrilateral (`vertices` und `indices`) im folgenden Code Block auf.\n",
        "Das Quadrilateral-Beispiel soll folgende Ausgabe erzeugen:\n",
        "\n",
        "```text\t\n",
        "# List of vertices, with (x y z [w=1]) coordinates.\n",
        "v 0.5 1.0 0.0\n",
        "v 0.0 0.0 0.0\n",
        "v 1.0 0.3 0.0\n",
        "v -0.5 0.7 0.0\n",
        "# Polygonal face element (3 indices for a triangle) \n",
        "f 1 2 3\n",
        "f 1 4 2\n",
        "```"
      ]
    },
    {
      "cell_type": "code",
      "execution_count": 2,
      "metadata": {
        "id": "7N2SZTpEJFOH"
      },
      "outputs": [],
      "source": [
        "# 4 vertices \n",
        "v0 = [0.5, 1.0, 0.0]\n",
        "v1 = [0.0, 0.0, 0.0]\n",
        "v2 = [1.0, 0.3, 0.0]\n",
        "v3 = [-.5, 0.7, 0.0]\n",
        "\n",
        "# store 4 vertices in a list:\n",
        "vertices = [v0,v1,v2,v3]\n",
        "# store the indices of the triangles in a list:\n",
        "indices  = [0,1,2,  # triangle 1\n",
        "            0,3,1]  # triangle 2\n",
        "\n",
        "def print_obj_file(vertices, indices):\n",
        "    \"\"\"Prints a mesh in an OBJ format.\n",
        "    \"\"\"\n",
        "    print(\"# List of vertices, with (x y z [w=1]) coordinates.\") # comment on top of vertex list\n",
        "    #  Todo: Finish this function\n",
        "\n",
        "    print(\"# Polygonal face element (3 indices for a triangle)\") # comment for face\n",
        "    #  Todo: Finish this function\n",
        "\n",
        "# call to the function:\n",
        "# Todo: use the function with vertices and indices!\n"
      ]
    },
    {
      "cell_type": "markdown",
      "metadata": {
        "id": "dStBc5M4JFOJ"
      },
      "source": [
        "## Aufgabe 3: (4 Punkte)\n",
        "\n",
        "Implementieren Sie folgende Funktionen:\n",
        "-  `get_pixel`, die u,v-Koordinaten nimmt und den entsprechenden Pixelwert zurückgibt.\n",
        "-  `set_pixel`, die u,v-Koordinaten und einen Pixelwert nimmt und den entsprechenden Pixelwert im Bild setzt.\n",
        "\n",
        "Die Koordinate u soll der horizontalen Spalte oder x-Achse entsprechen. Die Koordinate v soll der vertikalen Zeile oder y-Achse entsprechen.\n",
        "Stellen Sie sicher, dass Sie eine Begrenzungsprüfung auf die u,v-Koordinaten anwenden und ungültige Koordinaten ordnungsgemäß behandeln in dem Sie eine leere Liste oder None zurück liefern oder ungültige Pixel ignorieren."
      ]
    },
    {
      "cell_type": "code",
      "execution_count": null,
      "metadata": {
        "id": "jBAaMbg-JFOM"
      },
      "outputs": [],
      "source": [
        "from ipr import make_image, imshow\n",
        "\n",
        "def set_pixel(img, u, v, color):\n",
        "    \"\"\"Changes the color of a pixel in an image.\n",
        "    \"\"\"  \n",
        "    #  Todo: implement this function. Don't forget to check the boundary checks!\n",
        "\n",
        "def get_pixel(img, u, v):\n",
        "    \"\"\"Returns the color of a pixel in an image.\n",
        "    \"\"\"\n",
        "    #  Todo: implement this function. Don't forget to check the boundary checks!\n",
        "\n",
        "\n",
        "\n",
        "# Test cases for set_pixel and get_pixel\n",
        "img = make_image(8, 6, [128,0,255])\n",
        "\n",
        "# - get_pixel tests -----------------------------------------------------------\n",
        "print( get_pixel(img,0,0) ) # should be [128,0,255]!\n",
        "print( get_pixel(img,4,10) ) # invalid index. Return value should be None or empty list!\n",
        "\n",
        "# - set_pixel tests -----------------------------------------------------------\n",
        "set_pixel(img,5,4,[0,100,0])\n",
        "print(get_pixel(img,5,4)) # should be [0,100,0], now!\n",
        "set_pixel(img,10,2,[0,0,0]) # invalid index. should do nothing!\n",
        "\n",
        "imshow(\"set_pixel test\", img) # image should be purple with a green pixel at the lower right!"
      ]
    },
    {
      "cell_type": "markdown",
      "metadata": {
        "id": "_wCkCrbeJFOO"
      },
      "source": [
        "## Aufgabe 4: (4 Punkte)\n",
        "\n",
        "Implementieren Sie die Funktion `make_checkerboard_image` die ein Schachbrett Muster erzeugt.\n",
        "Das resultierende Bild zeigt Schachbrett-Quadrate, die abwechselnd `color1` und `color2` verwenden.\n",
        "Zusätzlich kann die Größe der Quadrate über den Parameter `checker_size` gesteuert werden. \n",
        "Eine Quadratgröße von N bedeutet, dass ein Quadrat NxN Pixel groß ist. \n",
        "Die Parameter `color1` und `color2` sowie die `checker_size` sind optional und sollen default Werte verwenden, wenn sie nicht angegeben werden.\n"
      ]
    },
    {
      "cell_type": "code",
      "execution_count": null,
      "metadata": {
        "id": "X3lVIaP1JFOQ"
      },
      "outputs": [],
      "source": [
        "def make_checkerboard_image(width, height, color1=[0,0,0], color2=[255,255,255], checker_size=1):\n",
        "    \"\"\"Create a new checkerboard image of the given width and height. \n",
        "    The squares of the checkerboard are pixels of colors color1 and color2 and the checkersize determines the size (in pixels) of the squares.\n",
        "    \"\"\"\n",
        "    #  Todo: implement this function. \n",
        "\n",
        "# Test cases for make_checkerboard_image\n",
        "chess = make_checkerboard_image(16, 8, [0,0,255], [255,255,0]) \n",
        "imshow(f\"checkerboard image {len(chess[0])}x{len(chess)}\", chess) # image is a yellow/blue checkerboard. The left top square is blue. \n",
        "chess = make_checkerboard_image(16, 8, checker_size=4)\n",
        "imshow(f\"checkerboard with large squares {len(chess[0])}x{len(chess)}\", chess) # image is a black/white checkerboard, where one square occupies 4 pixels. \n"
      ]
    }
  ],
  "metadata": {
    "colab": {
      "name": "ga-geometry.ipynb",
      "provenance": []
    },
    "interpreter": {
      "hash": "3e2b6404eb79c0fba1a251907aa00d26891e411eaa7ffd3f13ecfdd311f8c56c"
    },
    "kernelspec": {
      "display_name": "Python 3.8.10 64-bit (windows store)",
      "name": "python3"
    },
    "language_info": {
      "codemirror_mode": {
        "name": "ipython",
        "version": 3
      },
      "file_extension": ".py",
      "mimetype": "text/x-python",
      "name": "python",
      "nbconvert_exporter": "python",
      "pygments_lexer": "ipython3",
      "version": "3.8.10"
    },
    "orig_nbformat": 4
  },
  "nbformat": 4,
  "nbformat_minor": 0
}