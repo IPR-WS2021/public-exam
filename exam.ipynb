{
  "cells": [
    {
      "cell_type": "markdown",
      "metadata": {
        "id": "3of6D-hGVHt1"
      },
      "source": [
        "# IPR | Übungs Nachklausur\n",
        "\n",
        "Student name: *[Todo]* <br>\n",
        "Student ID: *[Todo]* <br>\n",
        "\n",
        "Die Aufgaben sind in einem Browserfenster mit interaktivem Jupyter Notebook auf Google Colab zu lösen. \n",
        "\n",
        "Speichern Sie das Notebook in ihrem Google Drive („Save a copy in Drive“) damit Ihre Lösungen nicht verloren gehen, falls Ihr Browser oder Rechner abstürzt.\n",
        "\n",
        "Die abzugebenden Lösungen sind Source Code der lauffähig ist und keine Syntax Fehler enthält (ähnlich zu den Übungsaufgaben).\n",
        "\n",
        "Während der Prüfung dürfen Sie:\n",
        "* Ihr Jupyter Notebook auf Drive nicht mit anderen Personen teilen,\n",
        "* Taschenrechner, ein Blatt Papier und Stifte verwenden, \n",
        "* mit keinen weiteren Personen sprechen, und\n",
        "* den Arbeitsplatz nicht verlassen.  \n"
      ]
    },
    {
      "cell_type": "code",
      "execution_count": 6,
      "metadata": {
        "colab": {
          "base_uri": "https://localhost:8080/"
        },
        "id": "M-_fy8DaXfOX",
        "outputId": "066911e7-ea76-441f-9485-dc91c08a5024"
      },
      "outputs": [],
      "source": [
        "# --- SETUP ---\n",
        "# Load the IPR-library first, so we can import it with import ipr\n",
        "#!curl \"https://raw.githubusercontent.com/IPR-WS2021/public-exam/main/ipr.py\" --output \"ipr.py\" "
      ]
    },
    {
      "cell_type": "markdown",
      "metadata": {},
      "source": [
        "## Aufgabe 1: (4 Punkte)\n",
        "Schreiben Sie eine Python Funktion `add_vector` die zwei Vektoren addiert. Diese soll dabei für Vektoren beliebiger Dimension funktionieren. \n",
        "Testen Sie die Funktion mit Vektoren der Dimension 3 und 4 und geben Sie diese Ergebnisse im Code aus. "
      ]
    },
    {
      "cell_type": "code",
      "execution_count": 7,
      "metadata": {},
      "outputs": [
        {
          "name": "stdout",
          "output_type": "stream",
          "text": [
            "[5, 7, 9]\n",
            "[5, 7, 9, 13]\n"
          ]
        }
      ],
      "source": [
        "def add_vector(v1, v2):\n",
        "    \"\"\"Adds two vectors.\n",
        "    \"\"\" \n",
        "    return [v1[i] + v2[i] for i in range(len(v1))]\n",
        "\n",
        "print( add_vector([1, 2, 3], [4, 5, 6]) )\n",
        "print( add_vector([1, 2, 3, 5], [4, 5, 6, 8]) )"
      ]
    },
    {
      "cell_type": "markdown",
      "metadata": {},
      "source": [
        "## Aufgabe 2: (4 Punkte)\n",
        "Schreiben Sie eine Python Funktion `print_obj_file` die ein beliebiges Dreiecks-Polygon in einem OBJ Datei Format auf der Konsole ausgibt.\n",
        "\n",
        "Die Eingabe sind die Vertices des Polygons sowie die Indizes für die Dreiecke.\n",
        "Vertices sind 3 dimensional und werden als verschachtelte Liste angegeben. \n",
        "Indices sind in einem 1-dimensionalen Array angegeben. Jedes Dreieck besteht aus 3 Indizes.\n",
        "Ein Vertex in einer OBJ-Datei beginnt mit einem „v“ am Anfang der Zeile.\n",
        "Ein Dreieck beginnt mit „f“ am Anfang der Zeile. \n",
        "Mehrere Scheitelpunkte und Flächen belegen mehrere Zeilen.\n",
        "Beachten Sie, dass Indizes in OBJ-Dateien bei 1 beginnen.\n",
        "\n",
        "Rufen Sie die Funktion mit dem Quadrilateral (`vertices` und `indices`) im folgenden Code Block auf.\n",
        "Das Quadrilateral-Beispiel soll folgende Ausgabe erzeugen:\n",
        "\n",
        "```text\t\n",
        "# List of vertices, with (x y z [w=1]) coordinates.\n",
        "v 0.5 1.0 0.0\n",
        "v 0.0 0.0 0.0\n",
        "v 1.0 0.3 0.0\n",
        "v -0.5 0.7 0.0\n",
        "# Polygonal face element (3 indices for a triangle) \n",
        "f 1 2 3\n",
        "f 1 4 2\n",
        "```"
      ]
    },
    {
      "cell_type": "code",
      "execution_count": 8,
      "metadata": {},
      "outputs": [
        {
          "name": "stdout",
          "output_type": "stream",
          "text": [
            "# List of vertices, with (x y z [w=1]) coordinates.\n",
            "v 0.5 1.0 0.0\n",
            "v 0.0 0.0 0.0\n",
            "v 1.0 0.3 0.0\n",
            "v -0.5 0.7 0.0\n",
            "# Polygonal face element (3 indices for a triangle)\n",
            "f 1 2 3\n",
            "f 1 4 2\n"
          ]
        }
      ],
      "source": [
        "# 4 vertices \n",
        "v0 = [0.5, 1.0, 0.0]\n",
        "v1 = [0.0, 0.0, 0.0]\n",
        "v2 = [1.0, 0.3, 0.0]\n",
        "v3 = [-.5, 0.7, 0.0]\n",
        "\n",
        "# store 4 vertices in a list:\n",
        "vertices = [v0,v1,v2,v3]\n",
        "# store the indices of the triangles in a list:\n",
        "indices  = [0,1,2,  # triangle 1\n",
        "            0,3,1]  # triangle 2\n",
        "\n",
        "def print_obj_file(vertices, indices):\n",
        "    \"\"\"Prints a mesh in an OBJ format.\n",
        "    \"\"\"\n",
        "    print(\"# List of vertices, with (x y z [w=1]) coordinates.\") # comment on top of vertex list\n",
        "    for v in vertices:\n",
        "        print(f\"v {v[0]} {v[1]} {v[2]}\") # write vertex\n",
        "\n",
        "    print(\"# Polygonal face element (3 indices for a triangle)\") # comment for face\n",
        "    for si in range(0,len(indices)-2,3):\n",
        "        print(\"f \" + \" \".join([str(ix+1) for ix in indices[si:si+3]]))\n",
        "\n",
        "# call to the function:\n",
        "print_obj_file(vertices,indices)\n"
      ]
    },
    {
      "cell_type": "markdown",
      "metadata": {},
      "source": [
        "## Aufgabe 3: (4 Punkte)\n",
        "\n",
        "Implementieren Sie folgende Funktionen:\n",
        "-  `get_pixel`, die u,v-Koordinaten nimmt und den entsprechenden Pixelwert zurückgibt.\n",
        "-  `set_pixel`, die u,v-Koordinaten und einen Pixelwert nimmt und den entsprechenden Pixelwert im Bild setzt.\n",
        "\n",
        "Stellen Sie sicher, dass Sie eine Begrenzungsprüfung auf die u,v-Koordinaten anwenden und ungültige Koordinaten ordnungsgemäß behandeln in dem Sie eine leere Liste oder None zurück liefern oder ungültige Pixel ignorieren."
      ]
    },
    {
      "cell_type": "code",
      "execution_count": 10,
      "metadata": {},
      "outputs": [
        {
          "name": "stdout",
          "output_type": "stream",
          "text": [
            "[128, 0, 255]\n",
            "[]\n",
            "[0, 100, 0]\n",
            "Warning: invalid coordinates 10,2\n"
          ]
        },
        {
          "data": {
            "image/png": "[encoded data removed]",
            "text/plain": [
              "<Figure size 720x720 with 1 Axes>"
            ]
          },
          "metadata": {
            "needs_background": "light"
          },
          "output_type": "display_data"
        }
      ],
      "source": [
        "from ipr import make_image, imshow\n",
        "\n",
        "def set_pixel(img, u, v, color):\n",
        "    \"\"\"Changes the color of a pixel in an image.\n",
        "    \"\"\"  \n",
        "    if 0<=v<len(img) and 0<=u<len(img[v]): # boundary checks!\n",
        "        img[v][u] = color # note that w,h or x,y are flipped!\n",
        "    else:\n",
        "        print(f\"Warning: invalid coordinates {u},{v}\")\n",
        "\n",
        "    return img\n",
        "\n",
        "def get_pixel(img, u, v):\n",
        "    \"\"\"Returns the color of a pixel in an image.\n",
        "    \"\"\"\n",
        "    if 0<=v<len(img) and 0<=u<len(img[v]): # boundary checks!\n",
        "        return img[v][u]\n",
        "    else:\n",
        "        return []\n",
        "\n",
        "\n",
        "# Test cases for set_pixel and get_pixel\n",
        "img = make_image(8, 6, [128,0,255])\n",
        "\n",
        "# - get_pixel tests -----------------------------------------------------------\n",
        "print( get_pixel(img,0,0) ) # should be [128,0,255]!\n",
        "print( get_pixel(img,4,10) ) # invalid index. Return value should be None or empty list!\n",
        "\n",
        "# - set_pixel tests -----------------------------------------------------------\n",
        "set_pixel(img,5,4,[0,100,0])\n",
        "print(get_pixel(img,5,4)) # should be [0,100,0], now!\n",
        "set_pixel(img,10,2,[0,0,0]) # invalid index. should do nothing!\n",
        "\n",
        "imshow(\"set_pixel test\", img) # image should be purple with a green pixel in the middle!"
      ]
    },
    {
      "cell_type": "markdown",
      "metadata": {},
      "source": [
        "## Aufgabe 4: (4 Punkte)\n",
        "\n",
        "Implementieren Sie die Funktion `make_checkerboard_image` die ein Schachbrett Muster erzeugt.\n",
        "Das resultierende Bild zeigt ein Schachbrett-Quadrate, die abwechselnd `color1` und `color2` verwenden.\n",
        "Zusätzlich kann die Größe der Quadrate über den Parameter `checker_size` gesteuert werden. \n",
        "Eine Quadratgröße von N bedeutet, dass ein Quadrat NxN Pixel groß ist. \n",
        "Die Parameter `color1` und `color2` sowie die `checker_size` sind optional und sollen default Werte verwenden, wenn sie nicht angegeben werden.\n"
      ]
    },
    {
      "cell_type": "code",
      "execution_count": 11,
      "metadata": {},
      "outputs": [
        {
          "data": {
            "image/png": "[encoded data removed]",
            "text/plain": [
              "<Figure size 720x720 with 1 Axes>"
            ]
          },
          "metadata": {
            "needs_background": "light"
          },
          "output_type": "display_data"
        },
        {
          "data": {
            "image/png": "[encoded data removed]",
            "text/plain": [
              "<Figure size 720x720 with 1 Axes>"
            ]
          },
          "metadata": {
            "needs_background": "light"
          },
          "output_type": "display_data"
        }
      ],
      "source": [
        "def make_checkerboard_image(width, height, color1=[0,0,0], color2=[255,255,255], checker_size=1):\n",
        "    \"\"\"Create a new checkerboard image of the given width and height. \n",
        "    The squares of the checkerboard are pixels of colors color1 and color2 and the checkersize determines the size (in pixels) of the squares.\n",
        "    \"\"\"\n",
        "    return [[color1 if (int(r/checker_size)+int(c/checker_size))%2==0 else color2 for c in range(width)] for r in range(height)]\n",
        "\n",
        "# Test cases for make_checkerboard_image\n",
        "chess = make_checkerboard_image(16, 8, [0,0,255], [255,255,0]) \n",
        "imshow(f\"checkerboard image {len(chess[0])}x{len(chess)}\", chess) # image is a yellow/blue checkerboard. The left top square is blue. \n",
        "chess = make_checkerboard_image(16, 8, checker_size=4)\n",
        "imshow(f\"checkerboard with large squares {len(chess[0])}x{len(chess)}\", chess) # image is a black/white checkerboard, where one square occupies 4 pixels. \n"
      ]
    }
  ],
  "metadata": {
    "colab": {
      "name": "ga-geometry.ipynb",
      "provenance": []
    },
    "interpreter": {
      "hash": "3e2b6404eb79c0fba1a251907aa00d26891e411eaa7ffd3f13ecfdd311f8c56c"
    },
    "kernelspec": {
      "display_name": "Python 3.8.10 64-bit (windows store)",
      "name": "python3"
    },
    "language_info": {
      "codemirror_mode": {
        "name": "ipython",
        "version": 3
      },
      "file_extension": ".py",
      "mimetype": "text/x-python",
      "name": "python",
      "nbconvert_exporter": "python",
      "pygments_lexer": "ipython3",
      "version": "3.8.10"
    },
    "orig_nbformat": 4
  },
  "nbformat": 4,
  "nbformat_minor": 0
}
